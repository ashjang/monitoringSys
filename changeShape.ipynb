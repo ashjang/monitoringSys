{
 "cells": [
  {
   "cell_type": "code",
   "execution_count": 3,
   "metadata": {},
   "outputs": [],
   "source": [
    "import numpy as np\n",
    "import os\n",
    "import pandas as pd"
   ]
  },
  {
   "cell_type": "code",
   "execution_count": 97,
   "metadata": {},
   "outputs": [],
   "source": [
    "arr = np.load(\"./dataPreprocess/data/1/5/L/1차/Skeleton/2023-02-20 151948.npy\", allow_pickle=True)\n",
    "listOfData = arr.tolist()\n",
    "dictOfTypeIdx = {0:1, 1:2, 2:4, 3:27, 4:6,\n",
    "                 5:7, 6:8, 7:9, 8:13, 9:14, 10:15,\n",
    "                 11:16, 12:19, 13:20, 14:21, 15:22,\n",
    "                 16:23, 17:24, 18:25, 19:26, 20:3,\n",
    "                 21:10, 22:11, 23:17, 24:18}\n",
    "listOfResult = [0 for i in range(25)]\n",
    "\n",
    "f = open(\"./skeletonData/S001C001P001R003A005.skeleton\", 'w')\n",
    "for i in range(len(listOfData)):\n",
    "    idx = 0;\n",
    "    for j in range(1, len(listOfData[i])):\n",
    "        if j in dictOfTypeIdx.values():\n",
    "            listOfResult.insert(idx, arr[i][dictOfTypeIdx[idx]])\n",
    "            idx = idx + 1\n",
    "            \n",
    "    for j in range(25):\n",
    "        temp = str(listOfResult[j])[1:-1]\n",
    "        temp = temp.replace(',','')\n",
    "        f.write(temp + \"\\n\")\n",
    "    listOfResult = [0 for i in range(25)]\n",
    "    f.write(\"\\n\")\n",
    "    \n",
    "f.close()\n",
    "\n",
    "\n",
    "\n",
    "# 1: 골반, 2: 배꼽, 3: 목, 4: 머리, 5: 왼쪽 어깨\n",
    "# 6: 왼쪽 팔꿈치, 7: 왼쪽 손목, 8: 왼쪽 손, 9: 오른쪽 어깨, 10: 오른쪽 팔꿈치\n",
    "# 11: 오른쪽 손목, 12: 오른쪽 손, 13: 왼쪽 엉덩이, 14: 왼쪽 무릎, 15: 왼쪽 발목\n",
    "# 16: 왼쪽 발, 17: 오른쪽  엉덩이, 18: 오른쪽 무릎, 19: 오른쪽 발목, 20: 오른쪽 발\n",
    "# 21: 가슴, 22: 왼쪽 손가락, 23: 왼쪽 엄지, 24: 오른쪽 손가락, 25: 오른쪽 엄지\n"
   ]
  },
  {
   "cell_type": "code",
   "execution_count": 77,
   "metadata": {},
   "outputs": [
    {
     "name": "stdout",
     "output_type": "stream",
     "text": [
      "/1/1/.DS_Store/\n",
      "/1/1/2차/\n",
      "/1/1/1차/\n",
      "/1/6/2차/\n",
      "/1/6/1차/\n",
      "/1/20/2차/\n",
      "/1/20/1차/\n",
      "/1/21/2차/\n",
      "/1/21/1차/\n",
      "/1/23/2차/\n",
      "/1/23/1차/\n",
      "/2/1/2차/\n",
      "/2/1/1차/\n",
      "/2/6/2차/\n",
      "/2/6/1차/\n",
      "/2/20/2차/\n",
      "/2/20/1차/\n",
      "/2/21/2차/\n",
      "/2/21/1차/\n",
      "/2/23/2차/\n",
      "/2/23/1차/\n"
     ]
    }
   ],
   "source": [
    "# 파일 각각 변환\n",
    "\n",
    "# def cameraType(folder_path):\n",
    "#     listDir = os.listdir(folder_path)\n",
    "#     for i in range(7):\n",
    "#         path = folder_path + listDir[i]\n",
    "        \n",
    "\n",
    "# project_dir = \"./dataPreprocess/data/\"\n",
    "# for i in range(1,3):\n",
    "#     for j in range(1,26):\n",
    "#         folder_path = project_dir+ str(i) + \"/\" + str(j)\n",
    "#         numFile = os.listdir(folder_path)\n",
    "#         # print(numFile)\n",
    "#         if(len(numFile) == 2 or '.DS_Store' in numFile):\n",
    "#             for k in numFile:\n",
    "#                 folder_path = \"/\" + str(i) + \"/\" + str(j) + \"/\" + k + \"/\"\n",
    "#                 print(folder_path)\n",
    "                "
   ]
  }
 ],
 "metadata": {
  "kernelspec": {
   "display_name": "Python 3",
   "language": "python",
   "name": "python3"
  },
  "language_info": {
   "codemirror_mode": {
    "name": "ipython",
    "version": 3
   },
   "file_extension": ".py",
   "mimetype": "text/x-python",
   "name": "python",
   "nbconvert_exporter": "python",
   "pygments_lexer": "ipython3",
   "version": "3.9.7"
  },
  "orig_nbformat": 4
 },
 "nbformat": 4,
 "nbformat_minor": 2
}
