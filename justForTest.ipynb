{
 "cells": [
  {
   "cell_type": "code",
   "execution_count": 1,
   "metadata": {},
   "outputs": [],
   "source": [
    "import numpy as np"
   ]
  },
  {
   "cell_type": "code",
   "execution_count": 6,
   "metadata": {},
   "outputs": [
    {
     "name": "stdout",
     "output_type": "stream",
     "text": [
      "1\n",
      "96\n",
      "2\n",
      "192\n",
      "3\n",
      "288\n",
      "4\n",
      "384\n",
      "5\n",
      "480\n",
      "6\n",
      "576\n",
      "7\n",
      "704\n",
      "8\n",
      "800\n",
      "9\n",
      "896\n",
      "10\n",
      "992\n",
      "11\n",
      "1088\n",
      "12\n",
      "1184\n",
      "13\n",
      "1280\n",
      "14\n",
      "1376\n",
      "15\n",
      "1472\n",
      "16\n",
      "1568\n",
      "17\n",
      "1664\n"
     ]
    }
   ],
   "source": [
    "data_path = \"/media/eslab/SAMSUNG/jangjange/data/processed/\"\n",
    "samples_names_list = [line.rstrip('\\n') for line in open(data_path + \"samples_names.txt\")]\n",
    "\n",
    "training_subjects_axxx = [i for i in range(1,18)]\n",
    "idx = 0\n",
    "people = 20\n",
    "\n",
    "training_samples = []\n",
    "\n",
    "for s in training_subjects_axxx:\n",
    "    training_subjects_axxx = [\"A{:03d}\".format(s)]\n",
    "    echAct = [i for i in samples_names_list if any (xs in i for xs in training_subjects_axxx)]\n",
    "    np.random.seed(idx)\n",
    "    np.random.shuffle(echAct)\n",
    "    again = 6\n",
    "    if s == 7:\n",
    "        again = 8\n",
    "    else:\n",
    "        again = 6\n",
    "    \n",
    "    for i in range(int((again * people) * 0.7)):\n",
    "        training_samples.append(echAct[i])\n",
    "    \n",
    "    \n",
    "    idx += 1\n",
    "\n",
    "# print(training_samples)\n",
    "# print(len(training_samples))"
   ]
  }
 ],
 "metadata": {
  "kernelspec": {
   "display_name": "Python 3",
   "language": "python",
   "name": "python3"
  },
  "language_info": {
   "codemirror_mode": {
    "name": "ipython",
    "version": 3
   },
   "file_extension": ".py",
   "mimetype": "text/x-python",
   "name": "python",
   "nbconvert_exporter": "python",
   "pygments_lexer": "ipython3",
   "version": "3.8.10"
  },
  "orig_nbformat": 4
 },
 "nbformat": 4,
 "nbformat_minor": 2
}
